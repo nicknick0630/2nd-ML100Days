{
 "cells": [
  {
   "cell_type": "markdown",
   "metadata": {},
   "source": [
    "## 練習時間\n",
    "在小量的資料上，我們用眼睛就可以看得出來程式碼是否有跑出我們理想中的結果\n",
    "\n",
    "請嘗試想像一個你需要的資料結構 (裡面的值可以是隨機的)，然後用上述的方法把它變成 pandas DataFrame\n",
    "\n",
    "#### Ex: 想像一個 dataframe 有兩個欄位，一個是國家，一個是人口，求人口數最多的國家\n",
    "\n",
    "### Hints: [隨機產生數值](https://blog.csdn.net/christianashannon/article/details/78867204)"
   ]
  },
  {
   "cell_type": "code",
   "execution_count": 4,
   "metadata": {},
   "outputs": [],
   "source": [
    "import pandas as pd\n",
    "import numpy as np"
   ]
  },
  {
   "cell_type": "code",
   "execution_count": 14,
   "metadata": {},
   "outputs": [
    {
     "name": "stdout",
     "output_type": "stream",
     "text": [
      "    國家         人口\n",
      "0  國家A   89619859\n",
      "1  國家B   70031069\n",
      "2  國家C   21290347\n",
      "3  國家D   38589603\n",
      "4  國家E    2185291\n",
      "5  國家F  117849278\n",
      "6  國家G   24998333\n",
      "7  國家H   64887344\n",
      "8  國家I  109647327\n",
      "9  國家J   71526595\n"
     ]
    }
   ],
   "source": [
    "data = {'國家': ['國家' + chr(ord('A') + s) for s in range(10) ],\n",
    "        '人口': list(np.random.randint(low=1000000,high=130000000,size = 10)) }\n",
    "frame = pd.DataFrame(data)\n",
    "\n",
    "print(frame)"
   ]
  },
  {
   "cell_type": "code",
   "execution_count": 18,
   "metadata": {},
   "outputs": [
    {
     "name": "stdout",
     "output_type": "stream",
     "text": [
      "人口數最多的國家為 國家F, 且人口數為 117849278\n"
     ]
    }
   ],
   "source": [
    "maxidx = frame['人口'].values.argmax()\n",
    "amount = frame['人口'][maxidx]\n",
    "name = frame['國家'][maxidx]\n",
    "\n",
    "print(\"人口數最多的國家為 {}, 且人口數為 {}\" .format(name,amount))"
   ]
  },
  {
   "cell_type": "code",
   "execution_count": null,
   "metadata": {},
   "outputs": [],
   "source": []
  }
 ],
 "metadata": {
  "kernelspec": {
   "display_name": "Python 3",
   "language": "python",
   "name": "python3"
  },
  "language_info": {
   "codemirror_mode": {
    "name": "ipython",
    "version": 3
   },
   "file_extension": ".py",
   "mimetype": "text/x-python",
   "name": "python",
   "nbconvert_exporter": "python",
   "pygments_lexer": "ipython3",
   "version": "3.7.3"
  }
 },
 "nbformat": 4,
 "nbformat_minor": 2
}
